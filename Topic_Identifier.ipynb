{
  "nbformat": 4,
  "nbformat_minor": 0,
  "metadata": {
    "colab": {
      "provenance": []
    },
    "kernelspec": {
      "name": "python3",
      "display_name": "Python 3"
    },
    "language_info": {
      "name": "python"
    }
  },
  "cells": [
    {
      "cell_type": "code",
      "execution_count": 6,
      "metadata": {
        "id": "o3Fwmtb3xxFt"
      },
      "outputs": [],
      "source": [
        "pip install openai"
      ]
    },
    {
      "cell_type": "code",
      "source": [
        "from openai import OpenAI\n",
        "\n",
        "paragraph = \"KNN classifier is a machine learning algorithm used for classification and regression problems. It works by finding the K nearest points in the training dataset and uses their class to predict the class or value of a new data point.\"\n",
        "\n",
        "client = OpenAI(api_key=\"your_sk\")\n",
        "response = client.chat.completions.create(\n",
        "    model=\"gpt-3.5-turbo\",  # You can choose the model that best fits your needs\n",
        "    messages=[\n",
        "    {\n",
        "        \"role\": \"user\",\n",
        "        \"content\": 'What can be possible topic of following paragraph:\\n '+paragraph,\n",
        "    },\n",
        "    ],\n",
        "    # max_tokens=500,  # Adjust as needed\n",
        ")\n",
        "\n",
        "# Extract the generated text (prediction) from the API response\n",
        "predicted_topic = response.choices[0].message.content\n",
        "\n",
        "# Print or use the predicted topic\n",
        "print(\"Predicted Topic:\", predicted_topic)"
      ],
      "metadata": {
        "colab": {
          "base_uri": "https://localhost:8080/"
        },
        "id": "0Pft_ZPh3FU3",
        "outputId": "917a4bc9-38fb-42ff-c30c-50adcdb369a5"
      },
      "execution_count": 29,
      "outputs": [
        {
          "output_type": "stream",
          "name": "stdout",
          "text": [
            "Predicted Topic: Possible topic for the paragraph could be \"Explanation of KNN classifier in machine learning.\"\n"
          ]
        }
      ]
    }
  ]
}